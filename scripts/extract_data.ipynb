{
 "cells": [
  {
   "cell_type": "code",
   "execution_count": 15,
   "id": "2fe50b64",
   "metadata": {},
   "outputs": [],
   "source": [
    "import yfinance as yf\n",
    "import pathlib as path\n",
    "import pandas as pd"
   ]
  },
  {
   "cell_type": "code",
   "execution_count": 27,
   "id": "713b6679",
   "metadata": {},
   "outputs": [
    {
     "name": "stderr",
     "output_type": "stream",
     "text": [
      "C:\\Users\\abc\\AppData\\Local\\Temp\\ipykernel_640\\2162562651.py:9: FutureWarning: Downcasting object dtype arrays on .fillna, .ffill, .bfill is deprecated and will change in a future version. Call result.infer_objects(copy=False) instead. To opt-in to the future behavior, set `pd.set_option('future.no_silent_downcasting', True)`\n",
      "  income_stmt.ffill(inplace=True)\n",
      "C:\\Users\\abc\\AppData\\Local\\Temp\\ipykernel_640\\2162562651.py:17: FutureWarning: Downcasting object dtype arrays on .fillna, .ffill, .bfill is deprecated and will change in a future version. Call result.infer_objects(copy=False) instead. To opt-in to the future behavior, set `pd.set_option('future.no_silent_downcasting', True)`\n",
      "  balance_sheet.ffill(inplace=True)\n"
     ]
    }
   ],
   "source": [
    "aapl = yf.Ticker(\"AAPL\")\n",
    "\n",
    "# Fetch 5 years of data\n",
    "income_stmt = aapl.income_stmt.T # Transpose rows/columns\n",
    "income_stmt.reset_index(inplace=True)  # Convert dates from index to a column\n",
    "income_stmt.rename(columns={\"index\": \"date\"}, inplace=True)\n",
    "# Drop rows where all financial data is NaN (excluding 'date')\n",
    "income_stmt = income_stmt.dropna(subset=income_stmt.columns.difference(['date']), how='all')\n",
    "income_stmt.ffill(inplace=True)\n",
    "\n",
    "\n",
    "\n",
    "balance_sheet = aapl.balance_sheet.T # Transpose rows/columns\n",
    "balance_sheet.reset_index(inplace=True)  # Convert dates from index to a column\n",
    "balance_sheet.rename(columns={\"index\": \"date\"}, inplace=True)\n",
    "balance_sheet = balance_sheet.dropna(subset=balance_sheet.columns.difference(['date']), how='all')\n",
    "balance_sheet.ffill(inplace=True)\n"
   ]
  },
  {
   "cell_type": "code",
   "execution_count": 28,
   "id": "98d0e36d",
   "metadata": {},
   "outputs": [
    {
     "name": "stdout",
     "output_type": "stream",
     "text": [
      "Income Statement NaNs: 6\n",
      "Balance Sheet NaNs: 7\n"
     ]
    }
   ],
   "source": [
    "print(\"Income Statement NaNs:\", income_stmt.isna().sum().sum())  # Should be 0\n",
    "print(\"Balance Sheet NaNs:\", balance_sheet.isna().sum().sum())    # Should be 0"
   ]
  },
  {
   "cell_type": "code",
   "execution_count": 29,
   "id": "edb833d8",
   "metadata": {},
   "outputs": [],
   "source": [
    "# Save raw data to /data_raw\n",
    "income_stmt.to_csv(\"C:/Users/abc/Desktop/Projects/corporate-fin-analysis/data_raw/income_stmt_aapl.csv\")\n",
    "balance_sheet.to_csv(\"C:/Users/abc/Desktop/Projects/corporate-fin-analysis/data_raw/balance_sheet_aapl.csv\")"
   ]
  },
  {
   "cell_type": "code",
   "execution_count": null,
   "id": "5ec1b6af",
   "metadata": {},
   "outputs": [],
   "source": []
  }
 ],
 "metadata": {
  "kernelspec": {
   "display_name": "Python 3",
   "language": "python",
   "name": "python3"
  },
  "language_info": {
   "codemirror_mode": {
    "name": "ipython",
    "version": 3
   },
   "file_extension": ".py",
   "mimetype": "text/x-python",
   "name": "python",
   "nbconvert_exporter": "python",
   "pygments_lexer": "ipython3",
   "version": "3.13.3"
  }
 },
 "nbformat": 4,
 "nbformat_minor": 5
}
