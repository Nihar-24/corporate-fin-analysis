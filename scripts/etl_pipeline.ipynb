{
 "cells": [
  {
   "cell_type": "code",
   "execution_count": 56,
   "id": "6b1d1b8a",
   "metadata": {},
   "outputs": [],
   "source": [
    "import pandas as pd"
   ]
  },
  {
   "cell_type": "code",
   "execution_count": 92,
   "id": "cd7d891f",
   "metadata": {},
   "outputs": [],
   "source": [
    "# Load the data\n",
    "income_df = pd.read_csv('C:/Users/abc/Desktop/Projects/corporate-fin-analysis/data_raw/income_stmt_aapl.csv')\n",
    "balance_df = pd.read_csv('C:/Users/abc/Desktop/Projects/corporate-fin-analysis/data_raw/balance_sheet_aapl.csv')"
   ]
  },
  {
   "cell_type": "code",
   "execution_count": null,
   "id": "8279a70c",
   "metadata": {},
   "outputs": [],
   "source": [
    "# Standardize column names (e.g., \"Cost Of Revenue\" → \"cost_of_revenue\")\n",
    "income_df.columns = income_df.columns.str.lower().str.replace(\" \", \"_\")\n",
    "balance_df.columns = balance_df.columns.str.lower().str.replace(\" \", \"_\")\n",
    "\n",
    "\n",
    "# Drop \"unnamed:_0\" column (artifact of index reset)\n",
    "balance_df.drop(columns=[\"unnamed:_0\"], inplace=True, errors=\"ignore\")\n",
    "income_df.drop(columns=[\"unnamed:_0\"], inplace=True, errors=\"ignore\")"
   ]
  },
  {
   "cell_type": "code",
   "execution_count": 94,
   "id": "0710fbce",
   "metadata": {},
   "outputs": [],
   "source": [
    "# Forward-fill missing quarterly data (e.g., R&D expenses)\n",
    "income_df.bfill(inplace=True)"
   ]
  },
  {
   "cell_type": "code",
   "execution_count": 95,
   "id": "1f68ff66",
   "metadata": {},
   "outputs": [],
   "source": [
    "# Check for negative equity (illogical for Apple)\n",
    "if (balance_df['stockholders_equity'] < 0).any():\n",
    "    raise ValueError(\"Negative equity detected!\")"
   ]
  },
  {
   "cell_type": "code",
   "execution_count": 96,
   "id": "98dc9dba",
   "metadata": {},
   "outputs": [],
   "source": [
    "# Ensure dates are unique\n",
    "if income_df['date'].duplicated().any():\n",
    "    income_df = income_df.drop_duplicates(subset=['date'], keep='last')\n",
    "\n",
    "balance_df['treasury_shares_number'] = balance_df['treasury_shares_number'].fillna(0)\n",
    "\n"
   ]
  },
  {
   "cell_type": "code",
   "execution_count": 97,
   "id": "09c69bd7",
   "metadata": {},
   "outputs": [],
   "source": [
    "import urllib\n",
    "from sqlalchemy import create_engine\n",
    "\n",
    "conn_str = (\n",
    "    r\"DRIVER={ODBC Driver 18 for SQL Server};\"\n",
    "    r\"SERVER=DESKTOP-0EA0GRI\\SQLEXPRESS;\"\n",
    "    r\"DATABASE=corporate-fin-analysis;\"\n",
    "    r\"Trusted_Connection=yes;\"\n",
    "    r\"Encrypt=no;\"\n",
    ")\n",
    "\n",
    "conn_uri = f\"mssql+pyodbc:///?odbc_connect={urllib.parse.quote_plus(conn_str)}\"\n",
    "engine = create_engine(conn_uri)\n",
    "\n"
   ]
  },
  {
   "cell_type": "code",
   "execution_count": 98,
   "id": "c6872dc2",
   "metadata": {},
   "outputs": [
    {
     "name": "stdout",
     "output_type": "stream",
     "text": [
      " Data loaded successfully!\n"
     ]
    }
   ],
   "source": [
    "#  Load your DataFrames\n",
    "income_df.to_sql(\n",
    "    name='income_statement',\n",
    "    con=engine,\n",
    "    if_exists='replace',\n",
    "    index=False\n",
    ")\n",
    "\n",
    "balance_df.to_sql(\n",
    "    name='balance_sheet',\n",
    "    con=engine,\n",
    "    if_exists='replace',\n",
    "    index=False\n",
    ")\n",
    "\n",
    "print(\" Data loaded successfully!\")\n"
   ]
  },
  {
   "cell_type": "code",
   "execution_count": null,
   "id": "d29aa9a9",
   "metadata": {},
   "outputs": [],
   "source": []
  }
 ],
 "metadata": {
  "kernelspec": {
   "display_name": "Python 3",
   "language": "python",
   "name": "python3"
  },
  "language_info": {
   "codemirror_mode": {
    "name": "ipython",
    "version": 3
   },
   "file_extension": ".py",
   "mimetype": "text/x-python",
   "name": "python",
   "nbconvert_exporter": "python",
   "pygments_lexer": "ipython3",
   "version": "3.13.3"
  }
 },
 "nbformat": 4,
 "nbformat_minor": 5
}
