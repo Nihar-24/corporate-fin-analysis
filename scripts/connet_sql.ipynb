{
 "cells": [
  {
   "cell_type": "code",
   "execution_count": 8,
   "id": "ed3223e2",
   "metadata": {},
   "outputs": [
    {
     "name": "stdout",
     "output_type": "stream",
     "text": [
      "Connected to SQL Server: Microsoft SQL Server 2022 (RTM) - 16.0.1000.6 (X64) \n",
      "\tOct  8 2022 05:58:25 \n",
      "\tCopyright (C) 2022 Microsoft Corporation\n",
      "\tExpress Edition (64-bit) on Windows 10 Pro 10.0 <X64> (Build 19045: )\n",
      "\n"
     ]
    }
   ],
   "source": [
    "import pyodbc\n",
    "import os\n",
    "\n",
    "conn = pyodbc.connect(\n",
    "    r'DRIVER={ODBC Driver 18 for SQL Server};'\n",
    "    r'SERVER=DESKTOP-0EA0GRI\\SQLEXPRESS;'\n",
    "    r'DATABASE=corporate-fin-analysis;'\n",
    "    r'Trusted_Connection=yes;'\n",
    "    r'Encrypt=no;'\n",
    ")\n",
    "\n",
    "\n",
    "# Test the connection\n",
    "cursor = conn.cursor()\n",
    "cursor.execute(\"SELECT @@version;\")\n",
    "row = cursor.fetchone()\n",
    "print(\"Connected to SQL Server:\", row[0])\n",
    "cursor.close()\n",
    "conn.close()\n"
   ]
  },
  {
   "cell_type": "code",
   "execution_count": 11,
   "id": "1ae9a022",
   "metadata": {},
   "outputs": [
    {
     "name": "stdout",
     "output_type": "stream",
     "text": [
      "Tables created successfully.\n"
     ]
    }
   ],
   "source": [
    "def create_tables(conn):\n",
    "    with open(\"C:/Users/abc/Desktop/Projects/corporate-fin-analysis/docs/schema.sql\", \"r\") as f:\n",
    "        schema_sql = f.read()\n",
    "    cursor = conn.cursor()\n",
    "    cursor.execute(schema_sql)\n",
    "    conn.commit()\n",
    "    print(\"Tables created successfully.\")\n",
    "\n",
    "# Usage:\n",
    "conn = pyodbc.connect('DRIVER={ODBC Driver 18 for SQL Server};'\n",
    "    r'SERVER=DESKTOP-0EA0GRI\\SQLEXPRESS;'\n",
    "    r'DATABASE=corporate-fin-analysis;'\n",
    "    r'Trusted_Connection=yes;'\n",
    "    r'Encrypt=no;'\n",
    ")\n",
    " # Reuse connection code\n",
    "create_tables(conn)\n",
    "conn.close()"
   ]
  },
  {
   "cell_type": "code",
   "execution_count": null,
   "id": "da47e0c6",
   "metadata": {},
   "outputs": [],
   "source": []
  }
 ],
 "metadata": {
  "kernelspec": {
   "display_name": "Python 3",
   "language": "python",
   "name": "python3"
  },
  "language_info": {
   "codemirror_mode": {
    "name": "ipython",
    "version": 3
   },
   "file_extension": ".py",
   "mimetype": "text/x-python",
   "name": "python",
   "nbconvert_exporter": "python",
   "pygments_lexer": "ipython3",
   "version": "3.13.3"
  }
 },
 "nbformat": 4,
 "nbformat_minor": 5
}
